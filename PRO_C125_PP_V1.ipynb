{
  "nbformat": 4,
  "nbformat_minor": 0,
  "metadata": {
    "colab": {
      "name": "Copy of PRO_C125_PP_V1.ipynb",
      "provenance": [],
      "collapsed_sections": []
    },
    "kernelspec": {
      "name": "python3",
      "display_name": "Python 3"
    },
    "language_info": {
      "name": "python"
    }
  },
  "cells": [
    {
      "cell_type": "markdown",
      "source": [
        "**Archery-Target** es un juego donde el jugador dispara una flecha puntiaguda hacia un objetivo circular con 10 anillos.\n",
        "\n",
        "<img src=\"https://s3-whjr-curriculum-uploads.whjr.online/4de9132a-c71d-42ce-9099-3293e8805fd9.jpg\"> "
      ],
      "metadata": {
        "id": "nUWO5QkC_g-4"
      }
    },
    {
      "cell_type": "markdown",
      "source": [
        "## Problema de aprendizaje por refuerzo (RL) a solucionar\n",
        "Golpea el centro del objetivo con la recompensa máxima."
      ],
      "metadata": {
        "id": "5QtHLAqv3wP3"
      }
    },
    {
      "cell_type": "markdown",
      "source": [
        "<img src=\"https://s3-whjr-curriculum-uploads.whjr.online/40656a8c-14e2-4dd7-9f9e-4c17669b9182.png\" width=300>\n",
        "\n",
        "\n",
        "Número de **estado**: ?\n",
        "\n",
        "Número de **acciones**: ?\n",
        "\n"
      ],
      "metadata": {
        "id": "Osb6FQ74YZtE"
      }
    },
    {
      "cell_type": "code",
      "source": [
        "# Importar bibliotecas"
      ],
      "metadata": {
        "id": "M2oIipDmeqap"
      },
      "execution_count": null,
      "outputs": []
    },
    {
      "cell_type": "markdown",
      "source": [
        "## Matriz de recompensas\n",
        "La matriz de recompensas representa los estados como filas y las acciones como columnas con los valores de recompensa respectivos asignados a un par estado-acción dado."
      ],
      "metadata": {
        "id": "Ujmi3BO54LfJ"
      }
    },
    {
      "cell_type": "code",
      "source": [
        "# Definir la matriz de recompensas"
      ],
      "metadata": {
        "id": "OUqPgOl0eh2u"
      },
      "execution_count": null,
      "outputs": []
    },
    {
      "cell_type": "markdown",
      "source": [
        "## Realizar una acción aleatoriamente"
      ],
      "metadata": {
        "id": "Af-CAmdfkDQY"
      }
    },
    {
      "cell_type": "code",
      "source": [
        "# Definir la función shoot()"
      ],
      "metadata": {
        "id": "ibSLCyMyigmK"
      },
      "execution_count": null,
      "outputs": []
    },
    {
      "cell_type": "markdown",
      "source": [
        "## Matriz-Q\n",
        "\n",
        "**Q-learning** es un algoritmo de aprendizaje por refuerzo (RA). Dado el estado actual, ayuda a encontrar la mejor acción a realizar por el agente.\n",
        "\n",
        "La **matriz-Q** representa la recompensa recibida después de tomar una acción particular en el estado actual. Inicialmente, todos los elementos de la matriz-Q son ceros.\n"
      ],
      "metadata": {
        "id": "JXKyVT28hHoH"
      }
    },
    {
      "cell_type": "code",
      "source": [
        "# Crear la matriz-Q"
      ],
      "metadata": {
        "id": "aNYwOV7ogtw1"
      },
      "execution_count": null,
      "outputs": []
    },
    {
      "cell_type": "markdown",
      "source": [
        "## Realizar una acción"
      ],
      "metadata": {
        "id": "0c95A4SOkGdN"
      }
    },
    {
      "cell_type": "code",
      "source": [
        "# Definir la función take_action()\n",
        "def take_action(reward_matrix):\n",
        "     \n",
        "     # Llamar a la función shoot() para obtener la función\n",
        "     \n",
        "     # Imprimir la acción\n",
        "     \n",
        "     # Obtener la recompensa correspondiente usando la matriz de recompensas\n",
        "     \n",
        "     # Imprimir la recompensa\n",
        "     \n",
        "     return action, reward\n",
        "    "
      ],
      "metadata": {
        "id": "LSBm-8CJ0UfK"
      },
      "execution_count": null,
      "outputs": []
    },
    {
      "cell_type": "code",
      "source": [
        "# Llamar a la función take_action()\n"
      ],
      "metadata": {
        "id": "rd-Y_kBXtUS5"
      },
      "execution_count": null,
      "outputs": []
    }
  ]
}